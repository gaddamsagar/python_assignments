{
 "cells": [
  {
   "cell_type": "code",
   "execution_count": 1,
   "metadata": {
    "collapsed": false
   },
   "outputs": [
    {
     "name": "stdout",
     "output_type": "stream",
     "text": [
      "0.168644630024\n"
     ]
    }
   ],
   "source": [
    "import math\n",
    "def sumxy(x,y):\n",
    "\ta = 0\n",
    "\tfor i in range(len(x)):\n",
    "\t\ta+=x[i]*y[i]\n",
    "\treturn a\n",
    "\n",
    "def sumsqrt(x):\n",
    "    a = 0\n",
    "    for i in range(len(x)):\n",
    "        a+=x[i]*x[i]\n",
    "    return a\n",
    "\n",
    "x = [1,3,4,4]\n",
    "y = [2,5,5,8]\n",
    "n=len(x)\n",
    "\n",
    "r_n = sumxy(x,y)-((sum(x)*sum(y))/n)\n",
    "r_d = (sumsqrt(x)- (sumsqrt(x)/n))*(sumsqrt(y)- (sumsqrt(y)/n))\n",
    "\n",
    "r = r_n/math.sqrt(r_d)\n",
    "\n",
    "print r"
   ]
  },
  {
   "cell_type": "code",
   "execution_count": null,
   "metadata": {
    "collapsed": true
   },
   "outputs": [],
   "source": []
  }
 ],
 "metadata": {
  "kernelspec": {
   "display_name": "Python 2",
   "language": "python",
   "name": "python2"
  },
  "language_info": {
   "codemirror_mode": {
    "name": "ipython",
    "version": 2
   },
   "file_extension": ".py",
   "mimetype": "text/x-python",
   "name": "python",
   "nbconvert_exporter": "python",
   "pygments_lexer": "ipython2",
   "version": "2.7.13"
  }
 },
 "nbformat": 4,
 "nbformat_minor": 2
}
